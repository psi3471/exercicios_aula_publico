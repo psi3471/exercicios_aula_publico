{
 "cells": [
  {
   "cell_type": "markdown",
   "id": "9d584229-8afa-4903-92d7-2c5a60fcdaa3",
   "metadata": {},
   "source": [
    "Para abrir o notebook no Google Colab, altere o domínio `github.com` para `githubtocolab.com`"
   ]
  },
  {
   "cell_type": "markdown",
   "id": "57a116d4-8a39-4bb7-b26f-15c7bf158620",
   "metadata": {},
   "source": [
    "<div class=\"alert alert-block alert-danger\">\n",
    "Para praticar programação, é importante que você erre, leia as mensagens de erro e tente corrigí-los.\n",
    "    \n",
    "Dessa forma, no Google Colab, é importante que você DESATIVE OS RECURSOS DE AUTOCOMPLETAR:\n",
    "\n",
    "- Menu Ferramentas -> Configurações\n",
    "- Na janela que é aberta:\n",
    "  - Seção Editor -> Desativar \"Mostrar sugestões de preenchimento de código com base no contexto\"\n",
    "\n",
    "Na versão em inglês:\n",
    "\n",
    "- Menu Tools -> Settings\n",
    "- Na janela que é aberta:\n",
    "  - Seção Editor -> Desativar \"Show context-powered code completions\"\n",
    "</div>"
   ]
  },
  {
   "cell_type": "markdown",
   "id": "1240f266-6128-4610-8959-5a077e5727a6",
   "metadata": {},
   "source": [
    "# PSI3471 - Aula de Exercícios 06\n",
    "\n",
    "# MLP com PyTorch\n",
    "\n",
    "Considere o a seguinte solução em PyTorch, para o problema das meias-luas:"
   ]
  },
  {
   "cell_type": "code",
   "execution_count": null,
   "id": "5f2eea3b-e01b-42ce-a3de-1ca5bae29696",
   "metadata": {
    "tags": []
   },
   "outputs": [],
   "source": [
    "import numpy as np\n",
    "import matplotlib.pyplot as plt\n",
    "\n",
    "import torch\n",
    "import torch.nn as nn"
   ]
  },
  {
   "cell_type": "code",
   "execution_count": null,
   "id": "4af0dafd-2007-47b0-a77f-6af55b0680a8",
   "metadata": {
    "tags": []
   },
   "outputs": [],
   "source": [
    "# Fixando seeds para poder reproduzir os resultados\n",
    "np.random.seed(111)\n",
    "torch.manual_seed(111)\n",
    "torch.cuda.manual_seed(111)"
   ]
  },
  {
   "cell_type": "code",
   "execution_count": null,
   "id": "53c9e226-5f7a-4458-936c-ec9beb04110b",
   "metadata": {
    "tags": []
   },
   "outputs": [],
   "source": [
    "# Função para garar dados de treinamento\n",
    "def meias_luas(NA, NB, r1, r2, r3):\n",
    "    \"\"\"\n",
    "    dados = meias_luas(NA,NB,r1,r2,r3)\n",
    "    NA: número de pontos da região A\n",
    "    NB: número de pontos da região B\n",
    "    r1, r2 e r3: dados das meias-luas\n",
    "    \"\"\"\n",
    "\n",
    "    # total de dados de treinamento\n",
    "    Nt = NA + NB\n",
    "\n",
    "    # dados das meia luas\n",
    "    rmin = r1 - r3 / 2\n",
    "    rmax = r1 + r3 / 2\n",
    "\n",
    "    # Pontos da Região A\n",
    "    a = np.pi * np.random.rand(NA, 1)\n",
    "    rxy = np.random.uniform(rmin, rmax, (NA, 1))\n",
    "    x1A = rxy * np.cos(a)\n",
    "    x2A = rxy * np.sin(a)\n",
    "    dA = np.ones((NA, 1))\n",
    "    pontosA = np.hstack((x1A, x2A, dA))\n",
    "\n",
    "    # Pontos da Região B\n",
    "    a = np.pi * np.random.rand(NB, 1)\n",
    "    rxy = np.random.uniform(rmin, rmax, (NB, 1))\n",
    "    x1B = rxy * np.cos(a) + r1\n",
    "    x2B = -rxy * np.sin(a) - r2\n",
    "    dB = -np.ones((NB, 1))    \n",
    "    pontosB = np.hstack((x1B, x2B, dB))\n",
    "\n",
    "    # Concatenando e embaralhando os dados\n",
    "    dados = np.vstack((pontosA, pontosB))\n",
    "    np.random.shuffle(dados)\n",
    "\n",
    "    # Figura para mostrar os dados de treino\n",
    "    fig, ax1 = plt.subplots()\n",
    "    ax1.plot(x1A, x2A, \".b\")\n",
    "    ax1.plot(x1B, x2B, \".r\")\n",
    "    plt.xlabel(\"x_1\")\n",
    "    plt.ylabel(\"x_2\")\n",
    "    plt.grid(axis=\"x\", color=\"0.5\")\n",
    "    plt.grid(axis=\"y\", color=\"0.5\")\n",
    "\n",
    "    return dados"
   ]
  },
  {
   "cell_type": "code",
   "execution_count": null,
   "id": "06f4b29e-f01a-4f01-a19e-7a5650a9d518",
   "metadata": {
    "tags": []
   },
   "outputs": [],
   "source": [
    "# Gerando dados de treinamento\n",
    "# Note o uso do sufixo `_np` para facilitar a identificação\n",
    "# de arrays do NumPy e não confundi-los com tensores do PyTorch\n",
    "\n",
    "# número de pontos de treinamento da Região A\n",
    "NA = 500\n",
    "\n",
    "# número de pontos de treinamento da Região B\n",
    "NB = 500\n",
    "\n",
    "# número total de dados de treinamento\n",
    "Nt = NA + NB\n",
    "\n",
    "r1 = 10\n",
    "r3 = 6\n",
    "r2 = -4\n",
    "\n",
    "dados_treino_np = meias_luas(NA, NB, r1, r2, r3)"
   ]
  },
  {
   "cell_type": "code",
   "execution_count": null,
   "id": "ed6eeee4-d0ae-4480-9f14-c1a83dd654f5",
   "metadata": {
    "tags": []
   },
   "outputs": [],
   "source": [
    "# Ajuste de hiperparâmetros\n",
    "\n",
    "# passo de adaptação da rede MLP\n",
    "eta = 0.5\n",
    "\n",
    "# Tamanho do mini-batch\n",
    "Nb = 100\n",
    "\n",
    "# Número de épocas\n",
    "Ne = 10000"
   ]
  },
  {
   "cell_type": "code",
   "execution_count": null,
   "id": "65d773f5-2b09-44b3-9c16-36dba61ac7ce",
   "metadata": {
    "tags": []
   },
   "outputs": [],
   "source": [
    "dados_treino = torch.tensor(dados_treino_np, dtype=torch.float32)\n",
    "train_set = [\n",
    "    (dados_treino[i, [0, 1]], dados_treino[i, [2]])\n",
    "    for i in range(dados_treino.shape[0])\n",
    "]\n",
    "\n",
    "train_loader = torch.utils.data.DataLoader(train_set, batch_size=Nb, shuffle=True)"
   ]
  },
  {
   "cell_type": "code",
   "execution_count": null,
   "id": "850b16f5-f3de-4d38-ba06-d51712148d3b",
   "metadata": {
    "tags": []
   },
   "outputs": [],
   "source": [
    "class Model(nn.Module):\n",
    "\n",
    "    # Geralmente, os blocos da rede são definidos no método __init__()\n",
    "    def __init__(self):\n",
    "        # Necessário chamar __init__() da classe mãe\n",
    "        super().__init__()\n",
    "        \n",
    "        # Uma das formas de se definir um modelo é a sequencial\n",
    "        self.model = nn.Sequential(\n",
    "            # Entrada com 2 elementos, conectada a 3 neurônios\n",
    "            nn.Linear(2, 3),\n",
    "            # Função de ativação Tanh\n",
    "            nn.Tanh(),\n",
    "            \n",
    "            # Saídas de 3 neurônios conectadas a 5 neurônios\n",
    "            nn.Linear(3, 5),\n",
    "            nn.Tanh(),\n",
    "            \n",
    "            nn.Linear(5, 5),\n",
    "            nn.Tanh(),\n",
    "            \n",
    "            nn.Linear(5, 2),\n",
    "            nn.Tanh(),\n",
    "            \n",
    "            nn.Linear(2, 1),\n",
    "            nn.Tanh(),            \n",
    "        )\n",
    "\n",
    "    # O método forward() define como é feito o cálculo progressivo\n",
    "    # para obter a saída da rede, a partir da entrada x.\n",
    "    # Nesse caso, como foi definido um modelo sequencial em\n",
    "    # self.model, basta chamar self.model(x)\n",
    "    def forward(self, x):\n",
    "        output = self.model(x)\n",
    "        return output"
   ]
  },
  {
   "cell_type": "code",
   "execution_count": null,
   "id": "4622abd2-4714-45f3-8933-a06430be2f6d",
   "metadata": {
    "tags": []
   },
   "outputs": [],
   "source": [
    "device = torch.device(\"cuda:0\" if torch.cuda.is_available() else \"cpu\")    \n",
    "\n",
    "model = Model().to(device=device)\n",
    "\n",
    "loss_function = nn.MSELoss()\n",
    "\n",
    "optimizer = torch.optim.SGD(model.parameters(), lr=eta)"
   ]
  },
  {
   "cell_type": "code",
   "execution_count": null,
   "id": "539349de-36a3-47c6-b646-1cb59bada30e",
   "metadata": {
    "tags": []
   },
   "outputs": [],
   "source": [
    "# Lista usada para guardar o valor da função custo ao longo das iterações\n",
    "losses = []\n",
    "\n",
    "# Loop das épocas\n",
    "for epoch in range(Ne):\n",
    "    # Loop dos mini batches - note que é usado o DataLoader para obter\n",
    "    # os sinais de entrada e desejado, X e d\n",
    "    for n, (X, d) in enumerate(train_loader):\n",
    "\n",
    "        # Envia os dados para a GPU, caso ela exista\n",
    "        X = X.to(device=device)\n",
    "        d = d.to(device=device)\n",
    "        \n",
    "        # Coloca o modelo em modo treinamento. Isso não é necessário nesse\n",
    "        # caso, pois não estamos fazendo validação. Mas é interessante manter\n",
    "        # a linha para lembrar desse detalhe\n",
    "        model.train()\n",
    "\n",
    "        # Zera informações de gradientes: por padrão o PyTorch acumula os \n",
    "        # gradientes a cada chamada de loss.backward(). Na maioria dos casos,\n",
    "        # estamos interessados apenas no último valor dos gradientes\n",
    "        model.zero_grad()\n",
    "        \n",
    "        # Calcula a saída\n",
    "        y = model(X)\n",
    "\n",
    "        # Calcula o valor da função custo\n",
    "        loss = loss_function(y, d)\n",
    "        \n",
    "        # Calcula os gradientes\n",
    "        loss.backward()\n",
    "        \n",
    "        # Atualiza os pesos do modelo, de acordo com as regras\n",
    "        # do otimizador escolhido\n",
    "        optimizer.step()\n",
    "        \n",
    "        # Armazena o valor da função custo\n",
    "        losses.append(loss.item())\n",
    "        \n",
    "        # Mostra o valor da função custo a cada 500 épocas        \n",
    "        if epoch % 500 == 0 and n == dados_treino.shape[0]//Nb - 1:\n",
    "            print(f\"Época: {epoch} Loss: {loss}\")\n",
    "\n",
    "plt.figure()\n",
    "plt.plot(losses)\n",
    "plt.xlabel(\"Batch\")\n",
    "plt.ylabel(\"Loss\")"
   ]
  },
  {
   "cell_type": "code",
   "execution_count": null,
   "id": "e889bdf7-dd1e-4a68-b19d-ede90933ea6d",
   "metadata": {
    "tags": []
   },
   "outputs": [],
   "source": [
    "# Dados de teste\n",
    "NAt = 1000\n",
    "NBt = 1000\n",
    "Nteste = NAt + NBt\n",
    "\n",
    "dados_teste = meias_luas(NAt, NBt, r1, r2, r3)"
   ]
  },
  {
   "cell_type": "code",
   "execution_count": null,
   "id": "4deabb05-941f-4688-8b29-3db7806512ef",
   "metadata": {
    "tags": []
   },
   "outputs": [],
   "source": [
    "xteste = torch.tensor(dados_teste[:,[0,1]], dtype=torch.float32).to(device=device)\n",
    "dteste = torch.tensor(dados_teste[:,[2]], dtype=torch.float32).to(device=device)"
   ]
  },
  {
   "cell_type": "code",
   "execution_count": null,
   "id": "01712ea4-d306-4ad7-8f9d-6c40abd22468",
   "metadata": {
    "tags": []
   },
   "outputs": [],
   "source": [
    "yteste = model(xteste)\n",
    "yteste_np = yteste.cpu().detach().numpy()"
   ]
  },
  {
   "cell_type": "code",
   "execution_count": null,
   "id": "b6a6ee1c-edeb-4458-98ea-4cea47a5258a",
   "metadata": {
    "tags": []
   },
   "outputs": [],
   "source": [
    "# Gera a curva de separação das duas regiões\n",
    "# Dados da curva de separação\n",
    "Nsep = 100\n",
    "x1S = np.linspace(-15, 25, Nsep).reshape(-1, 1)\n",
    "x2S = np.linspace(-10, 15, Nsep).reshape(-1, 1)\n",
    "\n",
    "# Gera pontos da grade\n",
    "xx1S, xx2S = np.meshgrid(x1S, x2S)\n",
    "xx1S = xx1S.reshape(-1, 1)\n",
    "xx2S = xx2S.reshape(-1, 1)\n",
    "\n",
    "# Gera array x\n",
    "Ngrid = len(xx1S)\n",
    "xgrid_np = np.hstack((xx1S, xx2S))\n",
    "\n",
    "# Calcula saída para cada ponto da grade\n",
    "xgrid = torch.tensor(xgrid_np, dtype=torch.float32).to(device=device)\n",
    "ygrid = model(xgrid)\n",
    "ygrid_dec = torch.sign(ygrid)\n",
    "\n",
    "ygrid_np = ygrid.cpu().detach().numpy()\n",
    "ygrid_dec_np = ygrid_dec.cpu().detach().numpy()\n",
    "\n",
    "xteste_np = xteste.cpu().detach().numpy()\n",
    "dteste_np = dteste.cpu().detach().numpy()\n",
    "\n",
    "# Plota os pontos principais\n",
    "fig, ax2 = plt.subplots()\n",
    "for i in range(Nteste):\n",
    "    if dteste_np[i] == 1:\n",
    "        ax2.plot(xteste_np[i, 0], xteste_np[i, 1], \".b\")\n",
    "    else:\n",
    "        ax2.plot(xteste_np[i, 0], xteste_np[i, 1], \".r\")\n",
    "\n",
    "# Plota pontos da grade com saída 0 (usa transparência alpha)        \n",
    "l0 = np.where(ygrid_dec_np == -1)[0]\n",
    "ax2.plot(xgrid_np[l0, 0], xgrid_np[l0, 1], \"r.\", alpha=0.1)\n",
    "\n",
    "# Plota pontos da grade com saída 1 (usa transparência alpha)\n",
    "l1 = np.where(ygrid_dec_np == 1)[0]\n",
    "ax2.plot(xgrid_np[l1, 0], xgrid_np[l1, 1], \"b.\", alpha=0.1)"
   ]
  },
  {
   "cell_type": "code",
   "execution_count": null,
   "id": "7593a081-135c-4f2d-b779-8d0f3f28a8e7",
   "metadata": {
    "tags": []
   },
   "outputs": [],
   "source": [
    "yteste_np_dec = np.sign(yteste_np)\n",
    "\n",
    "Taxa_de_erro = np.sum(np.absolute(dteste_np - yteste_np_dec)) * 100 / (2 * Nteste)\n",
    "\n",
    "print(f\"Taxa de erro: {Taxa_de_erro}\")"
   ]
  },
  {
   "cell_type": "markdown",
   "id": "b2fcc03b-69c1-4b65-881a-4aee0826d894",
   "metadata": {},
   "source": [
    "<div class=\"alert alert-block alert-success\">\n",
    "Modifique o código anterior\n",
    "</div>"
   ]
  },
  {
   "cell_type": "markdown",
   "id": "c103a062-7448-4327-8b3b-d799482f7480",
   "metadata": {},
   "source": [
    "Note que, nesse caso, a MLP com o SGD teve um bom desempenho, ao contrário do desempenho obtido com a [implementação manual feita na aula 5](https://github.com/psi3471/exercicios_aula_publico/blob/main/ex_aula_5.ipynb).\n",
    "\n",
    "Usando como referência as informações descritas no [Exemplo MLP com PyTorch\n",
    "](https://psi3471.github.io/exemplo_pytorch.html), modifique o código anterior, ajustando a arquitetura, inicialização e parâmetros, para obter o mesmo resultado da implementação da aula 5."
   ]
  }
 ],
 "metadata": {
  "kernelspec": {
   "display_name": "Python 3 (ipykernel)",
   "language": "python",
   "name": "python3"
  },
  "language_info": {
   "codemirror_mode": {
    "name": "ipython",
    "version": 3
   },
   "file_extension": ".py",
   "mimetype": "text/x-python",
   "name": "python",
   "nbconvert_exporter": "python",
   "pygments_lexer": "ipython3",
   "version": "3.10.16"
  }
 },
 "nbformat": 4,
 "nbformat_minor": 5
}
